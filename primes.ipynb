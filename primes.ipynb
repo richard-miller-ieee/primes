{
 "cells": [
  {
   "cell_type": "markdown",
   "metadata": {},
   "source": [
    "Find smallest number N with K factors"
   ]
  },
  {
   "cell_type": "code",
   "execution_count": 75,
   "metadata": {},
   "outputs": [
    {
     "name": "stdout",
     "output_type": "stream",
     "text": [
      "   K      N Factors\n",
      "A( 1)       1 [1]\n",
      "B( 2)       2 [1, 2]\n",
      "C( 3)       4 [1, 2, 4]\n",
      "D( 4)       6 [1, 2, 3, 6]\n",
      "E( 5)      16 [1, 2, 4, 8, 16]\n",
      "F( 6)      12 [1, 2, 3, 4, 6, 12]\n",
      "G( 7)      64 [1, 2, 4, 8, 16, 32, 64]\n",
      "H( 8)      24 [1, 2, 3, 4, 6, 8, 12, 24]\n",
      "I( 9)      36 [1, 2, 3, 4, 6, 9, 12, 18, 36]\n",
      "J(10)      48 [1, 2, 3, 4, 6, 8, 12, 16, 24, 48]\n",
      "K(11)    1024 [1, 2, 4, 8, 16, 32, 64, 128, 256, 512, 1024]\n",
      "L(12)      60 [1, 2, 3, 4, 5, 6, 10, 12, 15, 20, 30, 60]\n",
      "M(13)    4096 [1, 2, 4, 8, 16, 32, 64, 128, 256, 512, 1024, 2048, 4096]\n",
      "N(14)     192 [1, 2, 3, 4, 6, 8, 12, 16, 24, 32, 48, 64, 96, 192]\n",
      "O(15)     144 [1, 2, 3, 4, 6, 8, 9, 12, 16, 18, 24, 36, 48, 72, 144]\n",
      "P(16)     120 [1, 2, 3, 4, 5, 6, 8, 10, 12, 15, 20, 24, 30, 40, 60, 120]\n",
      "R(18)     180 [1, 2, 3, 4, 5, 6, 9, 10, 12, 15, 18, 20, 30, 36, 45, 60, 90, 180]\n",
      "T(20)     240 [1, 2, 3, 4, 5, 6, 8, 10, 12, 15, 16, 20, 24, 30, 40, 48, 60, 80, 120, 240]\n",
      "U(21)     576 [1, 2, 3, 4, 6, 8, 9, 12, 16, 18, 24, 32, 36, 48, 64, 72, 96, 144, 192, 288, 576]\n",
      "V(22)    3072 [1, 2, 3, 4, 6, 8, 12, 16, 24, 32, 48, 64, 96, 128, 192, 256, 384, 512, 768, 1024, 1536, 3072]\n",
      "X(24)     360 [1, 2, 3, 4, 5, 6, 8, 9, 10, 12, 15, 18, 20, 24, 30, 36, 40, 45, 60, 72, 90, 120, 180, 360]\n",
      "Y(25)    1296 [1, 2, 3, 4, 6, 8, 9, 12, 16, 18, 24, 27, 36, 48, 54, 72, 81, 108, 144, 162, 216, 324, 432, 648, 1296]\n",
      "Z(26)   12288 [1, 2, 3, 4, 6, 8, 12, 16, 24, 32, 48, 64, 96, 128, 192, 256, 384, 512, 768, 1024, 1536, 2048, 3072, 4096, 6144, 12288]\n"
     ]
    }
   ],
   "source": [
    "def factors(n):\n",
    "    \n",
    "    factors = [1]\n",
    "    if n == 1:\n",
    "        return factors\n",
    "\n",
    "    for f in range(2,(n)//2 + 1):\n",
    "        if not n%f:\n",
    "            factors.append(f)\n",
    "    factors.append(n)\n",
    "    return factors\n",
    "\n",
    "# factorise lots of number and count the factors\n",
    "numbers = []\n",
    "for n in range(1,13000):\n",
    "    f = factors(n) \n",
    "    numbers.append({\n",
    "        \"N\":n,\n",
    "        \"K\":len(f),\n",
    "        \"factors\":f,\n",
    "    })    \n",
    "\n",
    "print(f\"   K        N Factors\")\n",
    "for k in range(1,27):       # A - Z\n",
    "    letter = chr(64 + k)\n",
    "    for n in numbers:\n",
    "        if n[\"K\"] == k:\n",
    "            print(f\"{letter}({k:2}){n[\"N\"]:8}\", n[\"factors\"])\n",
    "            break\n",
    "\n",
    "\n"
   ]
  },
  {
   "cell_type": "code",
   "execution_count": 73,
   "metadata": {},
   "outputs": [
    {
     "name": "stdout",
     "output_type": "stream",
     "text": [
      "A( 1)       1\n",
      "B( 2)       2\n",
      "C( 3)       4\n",
      "D( 4)       6\n",
      "E( 5)      16\n",
      "F( 6)      12\n",
      "G( 7)      64\n",
      "H( 8)      30\n",
      "I( 9)      36\n",
      "J(10)      48\n",
      "K(11)    1024\n",
      "L(12)      60\n",
      "M(13)    4096\n",
      "N(14)     192\n",
      "O(15)     144\n",
      "P(16)     210\n",
      "Q(17)   65536\n",
      "R(18)     180\n",
      "S(19)  262144\n",
      "T(20)     240\n",
      "U(21)     576\n",
      "V(22)    3072\n",
      "W(23) 4194304\n",
      "X(24)     420\n",
      "Y(25)    1296\n",
      "Z(26)   12288\n"
     ]
    }
   ],
   "source": [
    "small_primes = [2, 3, 5, 7, 11, 13, 17, 19, 23]\n",
    "\n",
    "def prime_factors(n):\n",
    "    factors = []\n",
    "    for p in small_primes:\n",
    "        while not n%p:\n",
    "            n = n // p\n",
    "            factors.append(p)\n",
    "            if n == 1:\n",
    "                return factors\n",
    "\n",
    "\n",
    "\n",
    "print(F\"{chr(64+1)}({1:2}){1:8}\")\n",
    "for k in range(2,27):\n",
    "    N = 1\n",
    "    j = 0\n",
    "    for factor in reversed(prime_factors(k)):\n",
    "        N = N * small_primes[j] ** (factor-1)\n",
    "        j += 1\n",
    "    print(F\"{chr(64+k)}({k:2}){N:8}\")\n",
    "\n",
    "\n"
   ]
  }
 ],
 "metadata": {
  "kernelspec": {
   "display_name": "Python 3",
   "language": "python",
   "name": "python3"
  },
  "language_info": {
   "codemirror_mode": {
    "name": "ipython",
    "version": 3
   },
   "file_extension": ".py",
   "mimetype": "text/x-python",
   "name": "python",
   "nbconvert_exporter": "python",
   "pygments_lexer": "ipython3",
   "version": "3.12.2"
  }
 },
 "nbformat": 4,
 "nbformat_minor": 2
}
